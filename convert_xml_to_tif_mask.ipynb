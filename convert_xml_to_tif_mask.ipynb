{
  "nbformat": 4,
  "nbformat_minor": 0,
  "metadata": {
    "colab": {
      "name": "convert_xml_to_tif_mask.ipynb",
      "private_outputs": true,
      "provenance": [],
      "collapsed_sections": []
    },
    "kernelspec": {
      "name": "python3",
      "display_name": "Python 3"
    },
    "language_info": {
      "name": "python"
    }
  },
  "cells": [
    {
      "cell_type": "code",
      "metadata": {
        "id": "lZPrXz-cqxHl"
      },
      "source": [
        "!apt-get install openslide-tools\n",
        "!pip install openslide-python\n",
        "!pip install tifffile"
      ],
      "execution_count": null,
      "outputs": []
    },
    {
      "cell_type": "code",
      "metadata": {
        "id": "ZvkKD5QMrjIo"
      },
      "source": [
        "#ASAP Program to convert xml in tif images (multiresolutionimageinterface) suggested by Camelyon challenge\n",
        "#The shared XML files are compatible with the [ASAP](https://github.com/GeertLitjens/ASAP) software. \n",
        "\n",
        "#!lsb_release -a # cheking linux\n",
        "\n",
        "!wget https://github.com/computationalpathologygroup/ASAP/releases/download/1.9/ASAP-1.9-Linux-Ubuntu1804.deb\n",
        "\n",
        "!apt-get install \"./ASAP-1.9-Linux-Ubuntu1804.deb\"\n",
        "\n",
        "!dpkg -L asap\n",
        "\n",
        "import sys\n",
        "sys.path.insert(0,\"/opt/ASAP/bin\")"
      ],
      "execution_count": null,
      "outputs": []
    },
    {
      "cell_type": "code",
      "metadata": {
        "id": "CcgGijT_szkx"
      },
      "source": [
        "from google.colab import drive\n",
        "drive.mount('/content/drive/',  force_remount=True)"
      ],
      "execution_count": null,
      "outputs": []
    },
    {
      "cell_type": "code",
      "metadata": {
        "id": "cFBT4C0yej6m"
      },
      "source": [
        "import multiresolutionimageinterface as mir\n",
        "import matplotlib.pyplot as plt\n",
        "import os.path as osp\n",
        "import openslide\n",
        "import matplotlib.pyplot as plt\n",
        "from pathlib import Path\n",
        "import glob\n",
        "import numpy as np"
      ],
      "execution_count": null,
      "outputs": []
    },
    {
      "cell_type": "code",
      "metadata": {
        "id": "F51KvVixICzU"
      },
      "source": [
        "slide_num='102'\n",
        "\n",
        "slide_path = '/content/drive/My Drive/tumor/tumor_' + slide_num + '.tif'\n",
        "anno_path = '/content/drive/My Drive/cancer_detection/lesion_annotations/tumor_' + slide_num + '.xml'\n",
        "mask_path = '/content/drive/My Drive/cancer_detection/annotation_mask/teste2/'"
      ],
      "execution_count": null,
      "outputs": []
    },
    {
      "cell_type": "code",
      "metadata": {
        "id": "xX2RbERZKdnu"
      },
      "source": [
        "tumor_paths = glob.glob(slide_path)\n",
        "tumor_paths.sort()\n",
        "anno_tumor_paths = glob.glob(anno_path)\n",
        "anno_tumor_paths.sort()\n",
        "\n",
        "reader = mir.MultiResolutionImageReader()\n",
        "\n",
        "mr_image = reader.open(slide_path)\n",
        "annotation_list=mir.AnnotationList()\n",
        "xml_repository = mir.XmlRepository(annotation_list)\n",
        "xml_repository.setSource(anno_path)\n",
        "xml_repository.load()\n",
        "annotation_mask=mir.AnnotationToMask()\n",
        "camelyon17_type_mask = False\n",
        "label_map = {'metastases': 1, 'normal': 2} if camelyon17_type_mask else {'_0': 255, '_1': 255, '_2': 0}\n",
        "conversion_order = ['metastases', 'normal'] if camelyon17_type_mask else  ['_0', '_1', '_2']\n",
        "output_path= mask_path + 'tumor_' + slide_num + '_mask.tif'\n",
        "annotation_mask.convert(annotation_list, output_path, mr_image.getDimensions(), mr_image.getSpacing(), label_map, conversion_order)"
      ],
      "execution_count": null,
      "outputs": []
    },
    {
      "cell_type": "code",
      "metadata": {
        "id": "XRT9oLZFtH2z"
      },
      "source": [
        "from openslide import OpenSlide\n",
        "from openslide import open_slide\n",
        "\n",
        "def read_slide(slide, x, y, level, width, height, as_float=False):\n",
        "    im = slide.read_region((x,y), level, (width, height))\n",
        "    im = im.convert('RGB') # drop the alpha channel\n",
        "    if as_float:\n",
        "        im = np.asarray(im, dtype=np.float32)\n",
        "    else:\n",
        "        im = np.asarray(im)\n",
        "    assert im.shape == (height, width, 3)\n",
        "    return im\n",
        "\n",
        "\n",
        "slide_path = \"/content/drive/My Drive/tumor/tumor_047.tif\"\n",
        "tumor_mask_path = \"/content/drive/My Drive/cancer_detection/annotation_mask/teste2/tumor_047_mask.tif\"\n",
        "\n",
        "slide = open_slide(slide_path)\n",
        "tumor_mask = open_slide(tumor_mask_path)\n",
        "\n",
        "slide_image = read_slide(slide, \n",
        "                         x=0, \n",
        "                         y=0, \n",
        "                         level=5, \n",
        "                         width=slide.level_dimensions[5][0], \n",
        "                         height=slide.level_dimensions[5][1])\n",
        "\n",
        "mask_image = read_slide(tumor_mask, \n",
        "                         x=0, \n",
        "                         y=0, \n",
        "                         level=5, \n",
        "                         width=slide.level_dimensions[5][0], \n",
        "                         height=slide.level_dimensions[5][1])\n",
        "#show figs\n",
        "plt.figure(figsize=(10,10), dpi=100)\n",
        "plt.imshow(slide_image)\n",
        "\n",
        "plt.figure(figsize=(10,10), dpi=100)\n",
        "plt.imshow(mask_image)\n"
      ],
      "execution_count": null,
      "outputs": []
    }
  ]
}